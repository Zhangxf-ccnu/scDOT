{
 "cells": [
  {
   "cell_type": "markdown",
   "id": "greater-conference",
   "metadata": {},
   "source": [
    "# Import packages"
   ]
  },
  {
   "cell_type": "code",
   "execution_count": 1,
   "id": "extreme-gossip",
   "metadata": {},
   "outputs": [
    {
     "name": "stderr",
     "output_type": "stream",
     "text": [
      "No GPU/TPU found, falling back to CPU. (Set TF_CPP_MIN_LOG_LEVEL=0 and rerun for more info.)\n"
     ]
    }
   ],
   "source": [
    "import pandas as pd\n",
    "import numpy as np\n",
    "from scDOT import scDOT"
   ]
  },
  {
   "cell_type": "markdown",
   "id": "healthy-segment",
   "metadata": {},
   "source": [
    "# Load file names of data"
   ]
  },
  {
   "cell_type": "code",
   "execution_count": 2,
   "id": "absolute-russian",
   "metadata": {},
   "outputs": [],
   "source": [
    "batch = pd.read_csv(\"./datasets/pbmc/batch.csv\", header=0, index_col=False).x.values\n",
    "query_name = batch[0]\n",
    "ref_name = batch[1:]"
   ]
  },
  {
   "cell_type": "markdown",
   "id": "renewable-bryan",
   "metadata": {},
   "source": [
    "# Run scDOT"
   ]
  },
  {
   "cell_type": "code",
   "execution_count": 3,
   "id": "hazardous-tactics",
   "metadata": {},
   "outputs": [
    {
     "name": "stdout",
     "output_type": "stream",
     "text": [
      "precessing 0-th data\n"
     ]
    },
    {
     "name": "stderr",
     "output_type": "stream",
     "text": [
      "/home/xiongyx/.local/lib/python3.8/site-packages/scanpy/preprocessing/_simple.py:843: UserWarning: Received a view of an AnnData. Making a copy.\n",
      "  view_to_actual(adata)\n"
     ]
    },
    {
     "name": "stdout",
     "output_type": "stream",
     "text": [
      "precessing 1-th data\n",
      "precessing 2-th data\n",
      "precessing 3-th data\n",
      "precessing 4-th data\n",
      "precessing 5-th data\n",
      "precessing 6-th data\n",
      "precessing 7-th data\n",
      "precessing 8-th data\n",
      "precessing 9-th data\n",
      "precessing 10-th data\n",
      "precessing 11-th data\n"
     ]
    }
   ],
   "source": [
    "y_hat, score, _ = scDOT(\"./datasets/pbmc/\", ref_name, query_name)"
   ]
  },
  {
   "cell_type": "markdown",
   "id": "republican-hearts",
   "metadata": {},
   "source": [
    "# Evaluation"
   ]
  },
  {
   "cell_type": "code",
   "execution_count": 4,
   "id": "average-eugene",
   "metadata": {},
   "outputs": [
    {
     "name": "stdout",
     "output_type": "stream",
     "text": [
      "The annotation accuracy of Chromium is 0.9027431421446384\n"
     ]
    }
   ],
   "source": [
    "file_name = \"./datasets/pbmc/\" + \"{}_label.csv\".format(query_name)\n",
    "y_true = pd.read_csv(file_name, header=0, index_col=0).iloc[:,0].values\n",
    "accuracy = np.sum(y_hat == y_true)/y_true.shape[0]\n",
    "print(\"The annotation accuracy of {} is {}\".format(query_name, accuracy))"
   ]
  }
 ],
 "metadata": {
  "kernelspec": {
   "display_name": "Python 3",
   "language": "python",
   "name": "python3"
  },
  "language_info": {
   "codemirror_mode": {
    "name": "ipython",
    "version": 3
   },
   "file_extension": ".py",
   "mimetype": "text/x-python",
   "name": "python",
   "nbconvert_exporter": "python",
   "pygments_lexer": "ipython3",
   "version": "3.8.8"
  }
 },
 "nbformat": 4,
 "nbformat_minor": 5
}
